{
  "metadata": {
    "colab": {
      "provenance": [],
      "gpuType": "T4",
      "include_colab_link": true
    },
    "kernelspec": {
      "name": "python3",
      "display_name": "Python 3",
      "language": "python"
    },
    "language_info": {
      "name": "python",
      "version": "3.10.13",
      "mimetype": "text/x-python",
      "codemirror_mode": {
        "name": "ipython",
        "version": 3
      },
      "pygments_lexer": "ipython3",
      "nbconvert_exporter": "python",
      "file_extension": ".py"
    },
    "accelerator": "GPU",
    "widgets": {
      "application/vnd.jupyter.widget-state+json": {
        "54a7653781af4fe3ad585b9eb892520d": {
          "model_module": "@jupyter-widgets/controls",
          "model_name": "VBoxModel",
          "model_module_version": "1.5.0",
          "state": {
            "_dom_classes": [],
            "_model_module": "@jupyter-widgets/controls",
            "_model_module_version": "1.5.0",
            "_model_name": "VBoxModel",
            "_view_count": null,
            "_view_module": "@jupyter-widgets/controls",
            "_view_module_version": "1.5.0",
            "_view_name": "VBoxView",
            "box_style": "",
            "children": [
              "IPY_MODEL_2bfedb7a1075401895a561c17d6a39f2",
              "IPY_MODEL_c2f265a64b4a40919e3384dd37c54888"
            ],
            "layout": "IPY_MODEL_82bffe13a0274033a32b1af7adcb0090"
          }
        },
        "2bfedb7a1075401895a561c17d6a39f2": {
          "model_module": "@jupyter-widgets/controls",
          "model_name": "LabelModel",
          "model_module_version": "1.5.0",
          "state": {
            "_dom_classes": [],
            "_model_module": "@jupyter-widgets/controls",
            "_model_module_version": "1.5.0",
            "_model_name": "LabelModel",
            "_view_count": null,
            "_view_module": "@jupyter-widgets/controls",
            "_view_module_version": "1.5.0",
            "_view_name": "LabelView",
            "description": "",
            "description_tooltip": null,
            "layout": "IPY_MODEL_4794ed60e880407b8bd3a6f02e7b7ef5",
            "placeholder": "​",
            "style": "IPY_MODEL_ede6ea7835d14d719584d5cc7318a96c",
            "value": "0.011 MB of 0.011 MB uploaded\r"
          }
        },
        "c2f265a64b4a40919e3384dd37c54888": {
          "model_module": "@jupyter-widgets/controls",
          "model_name": "FloatProgressModel",
          "model_module_version": "1.5.0",
          "state": {
            "_dom_classes": [],
            "_model_module": "@jupyter-widgets/controls",
            "_model_module_version": "1.5.0",
            "_model_name": "FloatProgressModel",
            "_view_count": null,
            "_view_module": "@jupyter-widgets/controls",
            "_view_module_version": "1.5.0",
            "_view_name": "ProgressView",
            "bar_style": "",
            "description": "",
            "description_tooltip": null,
            "layout": "IPY_MODEL_bece6fdbb12f43239157751646dcedbd",
            "max": 1,
            "min": 0,
            "orientation": "horizontal",
            "style": "IPY_MODEL_7105863a6ef645d2b8534247de00e694",
            "value": 1
          }
        },
        "82bffe13a0274033a32b1af7adcb0090": {
          "model_module": "@jupyter-widgets/base",
          "model_name": "LayoutModel",
          "model_module_version": "1.2.0",
          "state": {
            "_model_module": "@jupyter-widgets/base",
            "_model_module_version": "1.2.0",
            "_model_name": "LayoutModel",
            "_view_count": null,
            "_view_module": "@jupyter-widgets/base",
            "_view_module_version": "1.2.0",
            "_view_name": "LayoutView",
            "align_content": null,
            "align_items": null,
            "align_self": null,
            "border": null,
            "bottom": null,
            "display": null,
            "flex": null,
            "flex_flow": null,
            "grid_area": null,
            "grid_auto_columns": null,
            "grid_auto_flow": null,
            "grid_auto_rows": null,
            "grid_column": null,
            "grid_gap": null,
            "grid_row": null,
            "grid_template_areas": null,
            "grid_template_columns": null,
            "grid_template_rows": null,
            "height": null,
            "justify_content": null,
            "justify_items": null,
            "left": null,
            "margin": null,
            "max_height": null,
            "max_width": null,
            "min_height": null,
            "min_width": null,
            "object_fit": null,
            "object_position": null,
            "order": null,
            "overflow": null,
            "overflow_x": null,
            "overflow_y": null,
            "padding": null,
            "right": null,
            "top": null,
            "visibility": null,
            "width": null
          }
        },
        "4794ed60e880407b8bd3a6f02e7b7ef5": {
          "model_module": "@jupyter-widgets/base",
          "model_name": "LayoutModel",
          "model_module_version": "1.2.0",
          "state": {
            "_model_module": "@jupyter-widgets/base",
            "_model_module_version": "1.2.0",
            "_model_name": "LayoutModel",
            "_view_count": null,
            "_view_module": "@jupyter-widgets/base",
            "_view_module_version": "1.2.0",
            "_view_name": "LayoutView",
            "align_content": null,
            "align_items": null,
            "align_self": null,
            "border": null,
            "bottom": null,
            "display": null,
            "flex": null,
            "flex_flow": null,
            "grid_area": null,
            "grid_auto_columns": null,
            "grid_auto_flow": null,
            "grid_auto_rows": null,
            "grid_column": null,
            "grid_gap": null,
            "grid_row": null,
            "grid_template_areas": null,
            "grid_template_columns": null,
            "grid_template_rows": null,
            "height": null,
            "justify_content": null,
            "justify_items": null,
            "left": null,
            "margin": null,
            "max_height": null,
            "max_width": null,
            "min_height": null,
            "min_width": null,
            "object_fit": null,
            "object_position": null,
            "order": null,
            "overflow": null,
            "overflow_x": null,
            "overflow_y": null,
            "padding": null,
            "right": null,
            "top": null,
            "visibility": null,
            "width": null
          }
        },
        "ede6ea7835d14d719584d5cc7318a96c": {
          "model_module": "@jupyter-widgets/controls",
          "model_name": "DescriptionStyleModel",
          "model_module_version": "1.5.0",
          "state": {
            "_model_module": "@jupyter-widgets/controls",
            "_model_module_version": "1.5.0",
            "_model_name": "DescriptionStyleModel",
            "_view_count": null,
            "_view_module": "@jupyter-widgets/base",
            "_view_module_version": "1.2.0",
            "_view_name": "StyleView",
            "description_width": ""
          }
        },
        "bece6fdbb12f43239157751646dcedbd": {
          "model_module": "@jupyter-widgets/base",
          "model_name": "LayoutModel",
          "model_module_version": "1.2.0",
          "state": {
            "_model_module": "@jupyter-widgets/base",
            "_model_module_version": "1.2.0",
            "_model_name": "LayoutModel",
            "_view_count": null,
            "_view_module": "@jupyter-widgets/base",
            "_view_module_version": "1.2.0",
            "_view_name": "LayoutView",
            "align_content": null,
            "align_items": null,
            "align_self": null,
            "border": null,
            "bottom": null,
            "display": null,
            "flex": null,
            "flex_flow": null,
            "grid_area": null,
            "grid_auto_columns": null,
            "grid_auto_flow": null,
            "grid_auto_rows": null,
            "grid_column": null,
            "grid_gap": null,
            "grid_row": null,
            "grid_template_areas": null,
            "grid_template_columns": null,
            "grid_template_rows": null,
            "height": null,
            "justify_content": null,
            "justify_items": null,
            "left": null,
            "margin": null,
            "max_height": null,
            "max_width": null,
            "min_height": null,
            "min_width": null,
            "object_fit": null,
            "object_position": null,
            "order": null,
            "overflow": null,
            "overflow_x": null,
            "overflow_y": null,
            "padding": null,
            "right": null,
            "top": null,
            "visibility": null,
            "width": null
          }
        },
        "7105863a6ef645d2b8534247de00e694": {
          "model_module": "@jupyter-widgets/controls",
          "model_name": "ProgressStyleModel",
          "model_module_version": "1.5.0",
          "state": {
            "_model_module": "@jupyter-widgets/controls",
            "_model_module_version": "1.5.0",
            "_model_name": "ProgressStyleModel",
            "_view_count": null,
            "_view_module": "@jupyter-widgets/base",
            "_view_module_version": "1.2.0",
            "_view_name": "StyleView",
            "bar_color": null,
            "description_width": ""
          }
        },
        "1892833c423f47279eb4753c54ad4e0d": {
          "model_module": "@jupyter-widgets/controls",
          "model_name": "VBoxModel",
          "model_module_version": "1.5.0",
          "state": {
            "_dom_classes": [],
            "_model_module": "@jupyter-widgets/controls",
            "_model_module_version": "1.5.0",
            "_model_name": "VBoxModel",
            "_view_count": null,
            "_view_module": "@jupyter-widgets/controls",
            "_view_module_version": "1.5.0",
            "_view_name": "VBoxView",
            "box_style": "",
            "children": [
              "IPY_MODEL_5c0bc412f6454dd7b182c34e3154a8ad",
              "IPY_MODEL_af420ac6dd564d6c8036b1e8fdeb41c9"
            ],
            "layout": "IPY_MODEL_8813368b42ec4e63a9b1657fe918e3e8"
          }
        },
        "5c0bc412f6454dd7b182c34e3154a8ad": {
          "model_module": "@jupyter-widgets/controls",
          "model_name": "LabelModel",
          "model_module_version": "1.5.0",
          "state": {
            "_dom_classes": [],
            "_model_module": "@jupyter-widgets/controls",
            "_model_module_version": "1.5.0",
            "_model_name": "LabelModel",
            "_view_count": null,
            "_view_module": "@jupyter-widgets/controls",
            "_view_module_version": "1.5.0",
            "_view_name": "LabelView",
            "description": "",
            "description_tooltip": null,
            "layout": "IPY_MODEL_37918cefb89b4588a78498c76ad5dae5",
            "placeholder": "​",
            "style": "IPY_MODEL_77742ddb9dc04184a147a9415750789d",
            "value": "0.012 MB of 0.012 MB uploaded\r"
          }
        },
        "af420ac6dd564d6c8036b1e8fdeb41c9": {
          "model_module": "@jupyter-widgets/controls",
          "model_name": "FloatProgressModel",
          "model_module_version": "1.5.0",
          "state": {
            "_dom_classes": [],
            "_model_module": "@jupyter-widgets/controls",
            "_model_module_version": "1.5.0",
            "_model_name": "FloatProgressModel",
            "_view_count": null,
            "_view_module": "@jupyter-widgets/controls",
            "_view_module_version": "1.5.0",
            "_view_name": "ProgressView",
            "bar_style": "",
            "description": "",
            "description_tooltip": null,
            "layout": "IPY_MODEL_e8f818d86f774c65a94866853027f2fe",
            "max": 1,
            "min": 0,
            "orientation": "horizontal",
            "style": "IPY_MODEL_9f585e5eac684b25a2233d8248897396",
            "value": 1
          }
        },
        "8813368b42ec4e63a9b1657fe918e3e8": {
          "model_module": "@jupyter-widgets/base",
          "model_name": "LayoutModel",
          "model_module_version": "1.2.0",
          "state": {
            "_model_module": "@jupyter-widgets/base",
            "_model_module_version": "1.2.0",
            "_model_name": "LayoutModel",
            "_view_count": null,
            "_view_module": "@jupyter-widgets/base",
            "_view_module_version": "1.2.0",
            "_view_name": "LayoutView",
            "align_content": null,
            "align_items": null,
            "align_self": null,
            "border": null,
            "bottom": null,
            "display": null,
            "flex": null,
            "flex_flow": null,
            "grid_area": null,
            "grid_auto_columns": null,
            "grid_auto_flow": null,
            "grid_auto_rows": null,
            "grid_column": null,
            "grid_gap": null,
            "grid_row": null,
            "grid_template_areas": null,
            "grid_template_columns": null,
            "grid_template_rows": null,
            "height": null,
            "justify_content": null,
            "justify_items": null,
            "left": null,
            "margin": null,
            "max_height": null,
            "max_width": null,
            "min_height": null,
            "min_width": null,
            "object_fit": null,
            "object_position": null,
            "order": null,
            "overflow": null,
            "overflow_x": null,
            "overflow_y": null,
            "padding": null,
            "right": null,
            "top": null,
            "visibility": null,
            "width": null
          }
        },
        "37918cefb89b4588a78498c76ad5dae5": {
          "model_module": "@jupyter-widgets/base",
          "model_name": "LayoutModel",
          "model_module_version": "1.2.0",
          "state": {
            "_model_module": "@jupyter-widgets/base",
            "_model_module_version": "1.2.0",
            "_model_name": "LayoutModel",
            "_view_count": null,
            "_view_module": "@jupyter-widgets/base",
            "_view_module_version": "1.2.0",
            "_view_name": "LayoutView",
            "align_content": null,
            "align_items": null,
            "align_self": null,
            "border": null,
            "bottom": null,
            "display": null,
            "flex": null,
            "flex_flow": null,
            "grid_area": null,
            "grid_auto_columns": null,
            "grid_auto_flow": null,
            "grid_auto_rows": null,
            "grid_column": null,
            "grid_gap": null,
            "grid_row": null,
            "grid_template_areas": null,
            "grid_template_columns": null,
            "grid_template_rows": null,
            "height": null,
            "justify_content": null,
            "justify_items": null,
            "left": null,
            "margin": null,
            "max_height": null,
            "max_width": null,
            "min_height": null,
            "min_width": null,
            "object_fit": null,
            "object_position": null,
            "order": null,
            "overflow": null,
            "overflow_x": null,
            "overflow_y": null,
            "padding": null,
            "right": null,
            "top": null,
            "visibility": null,
            "width": null
          }
        },
        "77742ddb9dc04184a147a9415750789d": {
          "model_module": "@jupyter-widgets/controls",
          "model_name": "DescriptionStyleModel",
          "model_module_version": "1.5.0",
          "state": {
            "_model_module": "@jupyter-widgets/controls",
            "_model_module_version": "1.5.0",
            "_model_name": "DescriptionStyleModel",
            "_view_count": null,
            "_view_module": "@jupyter-widgets/base",
            "_view_module_version": "1.2.0",
            "_view_name": "StyleView",
            "description_width": ""
          }
        },
        "e8f818d86f774c65a94866853027f2fe": {
          "model_module": "@jupyter-widgets/base",
          "model_name": "LayoutModel",
          "model_module_version": "1.2.0",
          "state": {
            "_model_module": "@jupyter-widgets/base",
            "_model_module_version": "1.2.0",
            "_model_name": "LayoutModel",
            "_view_count": null,
            "_view_module": "@jupyter-widgets/base",
            "_view_module_version": "1.2.0",
            "_view_name": "LayoutView",
            "align_content": null,
            "align_items": null,
            "align_self": null,
            "border": null,
            "bottom": null,
            "display": null,
            "flex": null,
            "flex_flow": null,
            "grid_area": null,
            "grid_auto_columns": null,
            "grid_auto_flow": null,
            "grid_auto_rows": null,
            "grid_column": null,
            "grid_gap": null,
            "grid_row": null,
            "grid_template_areas": null,
            "grid_template_columns": null,
            "grid_template_rows": null,
            "height": null,
            "justify_content": null,
            "justify_items": null,
            "left": null,
            "margin": null,
            "max_height": null,
            "max_width": null,
            "min_height": null,
            "min_width": null,
            "object_fit": null,
            "object_position": null,
            "order": null,
            "overflow": null,
            "overflow_x": null,
            "overflow_y": null,
            "padding": null,
            "right": null,
            "top": null,
            "visibility": null,
            "width": null
          }
        },
        "9f585e5eac684b25a2233d8248897396": {
          "model_module": "@jupyter-widgets/controls",
          "model_name": "ProgressStyleModel",
          "model_module_version": "1.5.0",
          "state": {
            "_model_module": "@jupyter-widgets/controls",
            "_model_module_version": "1.5.0",
            "_model_name": "ProgressStyleModel",
            "_view_count": null,
            "_view_module": "@jupyter-widgets/base",
            "_view_module_version": "1.2.0",
            "_view_name": "StyleView",
            "bar_color": null,
            "description_width": ""
          }
        },
        "2a8be77d7f4243b2a46c2eb7058fa253": {
          "model_module": "@jupyter-widgets/controls",
          "model_name": "VBoxModel",
          "model_module_version": "1.5.0",
          "state": {
            "_dom_classes": [],
            "_model_module": "@jupyter-widgets/controls",
            "_model_module_version": "1.5.0",
            "_model_name": "VBoxModel",
            "_view_count": null,
            "_view_module": "@jupyter-widgets/controls",
            "_view_module_version": "1.5.0",
            "_view_name": "VBoxView",
            "box_style": "",
            "children": [
              "IPY_MODEL_01be2dd02de64c039aaaea618d212ce6",
              "IPY_MODEL_8cbd9d0ffa6e444ba60a213dce12d946"
            ],
            "layout": "IPY_MODEL_7b049f1c6e9d4397948d3e0b56b22e08"
          }
        },
        "01be2dd02de64c039aaaea618d212ce6": {
          "model_module": "@jupyter-widgets/controls",
          "model_name": "LabelModel",
          "model_module_version": "1.5.0",
          "state": {
            "_dom_classes": [],
            "_model_module": "@jupyter-widgets/controls",
            "_model_module_version": "1.5.0",
            "_model_name": "LabelModel",
            "_view_count": null,
            "_view_module": "@jupyter-widgets/controls",
            "_view_module_version": "1.5.0",
            "_view_name": "LabelView",
            "description": "",
            "description_tooltip": null,
            "layout": "IPY_MODEL_cb58e8de8cdc41da929172940dab5a96",
            "placeholder": "​",
            "style": "IPY_MODEL_89941ae9fbe348fc9d8d8c74f3d812ac",
            "value": "0.011 MB of 0.011 MB uploaded\r"
          }
        },
        "8cbd9d0ffa6e444ba60a213dce12d946": {
          "model_module": "@jupyter-widgets/controls",
          "model_name": "FloatProgressModel",
          "model_module_version": "1.5.0",
          "state": {
            "_dom_classes": [],
            "_model_module": "@jupyter-widgets/controls",
            "_model_module_version": "1.5.0",
            "_model_name": "FloatProgressModel",
            "_view_count": null,
            "_view_module": "@jupyter-widgets/controls",
            "_view_module_version": "1.5.0",
            "_view_name": "ProgressView",
            "bar_style": "",
            "description": "",
            "description_tooltip": null,
            "layout": "IPY_MODEL_8d644987d6b64c78a2c12edc89941325",
            "max": 1,
            "min": 0,
            "orientation": "horizontal",
            "style": "IPY_MODEL_8aa3f74cb9a746629274b8ea07a08cd1",
            "value": 1
          }
        },
        "7b049f1c6e9d4397948d3e0b56b22e08": {
          "model_module": "@jupyter-widgets/base",
          "model_name": "LayoutModel",
          "model_module_version": "1.2.0",
          "state": {
            "_model_module": "@jupyter-widgets/base",
            "_model_module_version": "1.2.0",
            "_model_name": "LayoutModel",
            "_view_count": null,
            "_view_module": "@jupyter-widgets/base",
            "_view_module_version": "1.2.0",
            "_view_name": "LayoutView",
            "align_content": null,
            "align_items": null,
            "align_self": null,
            "border": null,
            "bottom": null,
            "display": null,
            "flex": null,
            "flex_flow": null,
            "grid_area": null,
            "grid_auto_columns": null,
            "grid_auto_flow": null,
            "grid_auto_rows": null,
            "grid_column": null,
            "grid_gap": null,
            "grid_row": null,
            "grid_template_areas": null,
            "grid_template_columns": null,
            "grid_template_rows": null,
            "height": null,
            "justify_content": null,
            "justify_items": null,
            "left": null,
            "margin": null,
            "max_height": null,
            "max_width": null,
            "min_height": null,
            "min_width": null,
            "object_fit": null,
            "object_position": null,
            "order": null,
            "overflow": null,
            "overflow_x": null,
            "overflow_y": null,
            "padding": null,
            "right": null,
            "top": null,
            "visibility": null,
            "width": null
          }
        },
        "cb58e8de8cdc41da929172940dab5a96": {
          "model_module": "@jupyter-widgets/base",
          "model_name": "LayoutModel",
          "model_module_version": "1.2.0",
          "state": {
            "_model_module": "@jupyter-widgets/base",
            "_model_module_version": "1.2.0",
            "_model_name": "LayoutModel",
            "_view_count": null,
            "_view_module": "@jupyter-widgets/base",
            "_view_module_version": "1.2.0",
            "_view_name": "LayoutView",
            "align_content": null,
            "align_items": null,
            "align_self": null,
            "border": null,
            "bottom": null,
            "display": null,
            "flex": null,
            "flex_flow": null,
            "grid_area": null,
            "grid_auto_columns": null,
            "grid_auto_flow": null,
            "grid_auto_rows": null,
            "grid_column": null,
            "grid_gap": null,
            "grid_row": null,
            "grid_template_areas": null,
            "grid_template_columns": null,
            "grid_template_rows": null,
            "height": null,
            "justify_content": null,
            "justify_items": null,
            "left": null,
            "margin": null,
            "max_height": null,
            "max_width": null,
            "min_height": null,
            "min_width": null,
            "object_fit": null,
            "object_position": null,
            "order": null,
            "overflow": null,
            "overflow_x": null,
            "overflow_y": null,
            "padding": null,
            "right": null,
            "top": null,
            "visibility": null,
            "width": null
          }
        },
        "89941ae9fbe348fc9d8d8c74f3d812ac": {
          "model_module": "@jupyter-widgets/controls",
          "model_name": "DescriptionStyleModel",
          "model_module_version": "1.5.0",
          "state": {
            "_model_module": "@jupyter-widgets/controls",
            "_model_module_version": "1.5.0",
            "_model_name": "DescriptionStyleModel",
            "_view_count": null,
            "_view_module": "@jupyter-widgets/base",
            "_view_module_version": "1.2.0",
            "_view_name": "StyleView",
            "description_width": ""
          }
        },
        "8d644987d6b64c78a2c12edc89941325": {
          "model_module": "@jupyter-widgets/base",
          "model_name": "LayoutModel",
          "model_module_version": "1.2.0",
          "state": {
            "_model_module": "@jupyter-widgets/base",
            "_model_module_version": "1.2.0",
            "_model_name": "LayoutModel",
            "_view_count": null,
            "_view_module": "@jupyter-widgets/base",
            "_view_module_version": "1.2.0",
            "_view_name": "LayoutView",
            "align_content": null,
            "align_items": null,
            "align_self": null,
            "border": null,
            "bottom": null,
            "display": null,
            "flex": null,
            "flex_flow": null,
            "grid_area": null,
            "grid_auto_columns": null,
            "grid_auto_flow": null,
            "grid_auto_rows": null,
            "grid_column": null,
            "grid_gap": null,
            "grid_row": null,
            "grid_template_areas": null,
            "grid_template_columns": null,
            "grid_template_rows": null,
            "height": null,
            "justify_content": null,
            "justify_items": null,
            "left": null,
            "margin": null,
            "max_height": null,
            "max_width": null,
            "min_height": null,
            "min_width": null,
            "object_fit": null,
            "object_position": null,
            "order": null,
            "overflow": null,
            "overflow_x": null,
            "overflow_y": null,
            "padding": null,
            "right": null,
            "top": null,
            "visibility": null,
            "width": null
          }
        },
        "8aa3f74cb9a746629274b8ea07a08cd1": {
          "model_module": "@jupyter-widgets/controls",
          "model_name": "ProgressStyleModel",
          "model_module_version": "1.5.0",
          "state": {
            "_model_module": "@jupyter-widgets/controls",
            "_model_module_version": "1.5.0",
            "_model_name": "ProgressStyleModel",
            "_view_count": null,
            "_view_module": "@jupyter-widgets/base",
            "_view_module_version": "1.2.0",
            "_view_name": "StyleView",
            "bar_color": null,
            "description_width": ""
          }
        }
      }
    },
    "kaggle": {
      "accelerator": "nvidiaTeslaT4",
      "dataSources": [],
      "dockerImageVersionId": 30674,
      "isInternetEnabled": true,
      "language": "python",
      "sourceType": "notebook",
      "isGpuEnabled": true
    }
  },
  "nbformat_minor": 0,
  "nbformat": 4,
  "cells": [
    {
      "cell_type": "markdown",
      "metadata": {
        "id": "view-in-github",
        "colab_type": "text"
      },
      "source": [
        "<a href=\"https://colab.research.google.com/github/CS23M005/Assignment2_PARTB/blob/main/dl_assn2_partb.ipynb\" target=\"_parent\"><img src=\"https://colab.research.google.com/assets/colab-badge.svg\" alt=\"Open In Colab\"/></a>"
      ]
    },
    {
      "cell_type": "code",
      "source": [
        "import torch\n",
        "import torch.nn as nn\n",
        "import torch.nn.functional as F\n",
        "import torchvision\n",
        "import torchvision.transforms as transforms\n",
        "import matplotlib.pyplot as plt\n",
        "import numpy as np\n",
        "\n",
        "import math\n",
        "\n",
        "device = torch.device('cuda' if torch.cuda.is_available() else 'cpu')"
      ],
      "metadata": {
        "id": "EelbKOQZna8h",
        "execution": {
          "iopub.status.busy": "2024-04-06T15:55:15.212948Z",
          "iopub.execute_input": "2024-04-06T15:55:15.213287Z",
          "iopub.status.idle": "2024-04-06T15:55:22.468943Z",
          "shell.execute_reply.started": "2024-04-06T15:55:15.213261Z",
          "shell.execute_reply": "2024-04-06T15:55:22.468028Z"
        },
        "trusted": true
      },
      "execution_count": null,
      "outputs": []
    },
    {
      "cell_type": "code",
      "source": [
        "device"
      ],
      "metadata": {
        "colab": {
          "base_uri": "https://localhost:8080/"
        },
        "id": "JTx13mkhacMR",
        "outputId": "935b5e7e-d6bd-4cd5-c51f-ec4cfe325762",
        "execution": {
          "iopub.status.busy": "2024-04-06T15:55:28.422831Z",
          "iopub.execute_input": "2024-04-06T15:55:28.423994Z",
          "iopub.status.idle": "2024-04-06T15:55:28.430244Z",
          "shell.execute_reply.started": "2024-04-06T15:55:28.423948Z",
          "shell.execute_reply": "2024-04-06T15:55:28.429316Z"
        },
        "trusted": true
      },
      "execution_count": null,
      "outputs": [
        {
          "execution_count": 2,
          "output_type": "execute_result",
          "data": {
            "text/plain": "device(type='cuda')"
          },
          "metadata": {}
        }
      ]
    },
    {
      "cell_type": "code",
      "source": [
        "!wget https://storage.googleapis.com/wandb_datasets/nature_12K.zip -O nature_12K.zip\n",
        "!unzip -q nature_12K.zip"
      ],
      "metadata": {
        "colab": {
          "base_uri": "https://localhost:8080/"
        },
        "id": "Egc4oQ-l-WVF",
        "outputId": "2be0a6f4-974d-4b8a-c1a5-c2c0b24e6073",
        "execution": {
          "iopub.status.busy": "2024-04-06T15:55:31.315478Z",
          "iopub.execute_input": "2024-04-06T15:55:31.316292Z",
          "iopub.status.idle": "2024-04-06T15:56:12.790725Z",
          "shell.execute_reply.started": "2024-04-06T15:55:31.316260Z",
          "shell.execute_reply": "2024-04-06T15:56:12.789000Z"
        },
        "trusted": true
      },
      "execution_count": null,
      "outputs": [
        {
          "name": "stdout",
          "text": "--2024-04-06 15:55:32--  https://storage.googleapis.com/wandb_datasets/nature_12K.zip\nResolving storage.googleapis.com (storage.googleapis.com)... 108.177.121.207, 142.250.1.207, 108.177.120.207, ...\nConnecting to storage.googleapis.com (storage.googleapis.com)|108.177.121.207|:443... connected.\nHTTP request sent, awaiting response... 200 OK\nLength: 3816687935 (3.6G) [application/zip]\nSaving to: 'nature_12K.zip'\n\nnature_12K.zip      100%[===================>]   3.55G   268MB/s    in 13s     \n\n2024-04-06 15:55:45 (278 MB/s) - 'nature_12K.zip' saved [3816687935/3816687935]\n\n",
          "output_type": "stream"
        }
      ]
    },
    {
      "cell_type": "code",
      "source": [
        "!rm nature_12K.zip"
      ],
      "metadata": {
        "id": "ZMvyUFo_-lUi",
        "execution": {
          "iopub.status.busy": "2024-04-06T15:56:12.793939Z",
          "iopub.execute_input": "2024-04-06T15:56:12.794420Z",
          "iopub.status.idle": "2024-04-06T15:56:14.293924Z",
          "shell.execute_reply.started": "2024-04-06T15:56:12.794372Z",
          "shell.execute_reply": "2024-04-06T15:56:14.292676Z"
        },
        "trusted": true
      },
      "execution_count": null,
      "outputs": []
    },
    {
      "cell_type": "code",
      "source": [
        "from torchvision.datasets import ImageFolder\n",
        "import torchvision.transforms as transforms\n",
        "from torch.utils.data import Subset, DataLoader\n",
        "import torchvision\n",
        "from torch import optim\n",
        "from tqdm import tqdm\n",
        "from torch.utils.data import DataLoader\n",
        "from torchvision import datasets\n",
        "import torchvision.models as models\n"
      ],
      "metadata": {
        "id": "5XKRsVXs9zd2",
        "execution": {
          "iopub.status.busy": "2024-04-06T15:56:27.435288Z",
          "iopub.execute_input": "2024-04-06T15:56:27.435694Z",
          "iopub.status.idle": "2024-04-06T15:56:27.446699Z",
          "shell.execute_reply.started": "2024-04-06T15:56:27.435630Z",
          "shell.execute_reply": "2024-04-06T15:56:27.444028Z"
        },
        "trusted": true
      },
      "execution_count": null,
      "outputs": []
    },
    {
      "cell_type": "code",
      "source": [
        "# Below function takes the optimizer string as input and outputs the model optimizer\n",
        "def getOptim(model,optim_name, learning_rate):\n",
        "  if(optim_name == 'sgd'):\n",
        "    optimizer = optim.SGD(model.parameters(), lr=learning_rate)\n",
        "  elif(optim_name == 'adam'):\n",
        "    optimizer = optim.Adam(model.parameters(), lr=learning_rate)\n",
        "  else:\n",
        "    optimizer = optim.NAdam(model.parameters(), lr=learning_rate)\n",
        "  return optimizer\n"
      ],
      "metadata": {
        "id": "CBdvYiDtBZYC",
        "execution": {
          "iopub.status.busy": "2024-04-06T15:56:32.440539Z",
          "iopub.execute_input": "2024-04-06T15:56:32.441349Z",
          "iopub.status.idle": "2024-04-06T15:56:32.446705Z",
          "shell.execute_reply.started": "2024-04-06T15:56:32.441320Z",
          "shell.execute_reply": "2024-04-06T15:56:32.445734Z"
        },
        "trusted": true
      },
      "execution_count": null,
      "outputs": []
    },
    {
      "cell_type": "code",
      "source": [
        "# this function takes the data and do forward propagation and generates the accuracy and loss\n",
        "def check_accuracy(loader,model,criterion,batchSize):\n",
        "    num_correct = 0\n",
        "    num_loss = 0\n",
        "    total = 0\n",
        "    num_samples = 0\n",
        "    total_loss = 0.0\n",
        "    model.eval()\n",
        "    with torch.no_grad():\n",
        "        for x, y in loader:\n",
        "            x = x.to(device=device)\n",
        "            y = y.to(device=device)\n",
        "            scores = model(x) # forward propagation\n",
        "            loss = criterion(scores, y)\n",
        "            total_loss += loss.item()*batchSize\n",
        "            _, predictions = scores.max(1)\n",
        "            num_correct += (predictions == y).sum().item()\n",
        "            num_samples += predictions.size(0)\n",
        "    model.train()\n",
        "    return (num_correct / num_samples)*100 , total_loss"
      ],
      "metadata": {
        "id": "IVpdYdyTAofx",
        "execution": {
          "iopub.status.busy": "2024-04-06T15:56:36.295942Z",
          "iopub.execute_input": "2024-04-06T15:56:36.296803Z",
          "iopub.status.idle": "2024-04-06T15:56:36.304634Z",
          "shell.execute_reply.started": "2024-04-06T15:56:36.296772Z",
          "shell.execute_reply": "2024-04-06T15:56:36.303521Z"
        },
        "trusted": true
      },
      "execution_count": null,
      "outputs": []
    },
    {
      "cell_type": "code",
      "source": [
        "    #Below code reads the dataset and transforms (2 types - with augmentation and without augmentation)\n",
        "\n",
        "    #without augmentation\n",
        "    transform = transforms.Compose([\n",
        "    transforms.Resize((224,224)),\n",
        "    transforms.ToTensor(),\n",
        "    transforms.Normalize((0.5,),(0.5,))])\n",
        "\n",
        "    train_dataset = datasets.ImageFolder(root='inaturalist_12K/train',transform=transform)\n",
        "\n",
        "    train_dataset,val_dataset = torch.utils.data.random_split(train_dataset,[8000,1999])\n",
        "\n",
        "    #with augmentation\n",
        "    transform2 = transforms.Compose([\n",
        "    transforms.RandomResizedCrop(224),\n",
        "    transforms.RandomHorizontalFlip(),\n",
        "    transforms.RandomRotation(10),\n",
        "    transforms.ColorJitter(brightness=0.2, contrast=0.2, saturation=0.2, hue=0.1),\n",
        "    transforms.Resize((224,224)),\n",
        "    transforms.ToTensor(),\n",
        "    transforms.Normalize((0.5,),(0.5,))])\n",
        "\n",
        "    train_dataset2 = datasets.ImageFolder(root='inaturalist_12K/train',transform=transform2)\n",
        "\n",
        "    train_dataset2,val_dataset2 = torch.utils.data.random_split(train_dataset2,[8000,1999])\n",
        "\n",
        "    #function takes input augmentation string and produces required transformed data loader\n",
        "    def getData(data_aug, batchSize):\n",
        "        if(data_aug == \"no\"):\n",
        "            train_loader = torch.utils.data.DataLoader(train_dataset,batch_size =batchSize,shuffle = True,num_workers=2,pin_memory=True)\n",
        "            val_loader = torch.utils.data.DataLoader(val_dataset,batch_size =batchSize,shuffle = True,num_workers=2,pin_memory=True)\n",
        "        else:\n",
        "            train_loader = torch.utils.data.DataLoader(train_dataset2,batch_size =batchSize,shuffle = True,num_workers=2,pin_memory=True)\n",
        "            val_loader = torch.utils.data.DataLoader(val_dataset2,batch_size =batchSize,shuffle = True,num_workers=2,pin_memory=True)\n",
        "        return train_loader, val_loader"
      ],
      "metadata": {
        "execution": {
          "iopub.status.busy": "2024-04-06T15:56:43.055394Z",
          "iopub.execute_input": "2024-04-06T15:56:43.056094Z",
          "iopub.status.idle": "2024-04-06T15:56:43.187063Z",
          "shell.execute_reply.started": "2024-04-06T15:56:43.056066Z",
          "shell.execute_reply": "2024-04-06T15:56:43.186138Z"
        },
        "trusted": true,
        "id": "CaXvtIAMHmqu"
      },
      "execution_count": null,
      "outputs": []
    },
    {
      "cell_type": "code",
      "source": [
        "# resnet50 model importing and removing the base model last layer and adding the required sized last layer\n",
        "def resnet50_ud(output_size):\n",
        "    model = models.resnet50(pretrained=True)\n",
        "    num_features = model.fc.in_features\n",
        "    model.fc = torch.nn.Linear(num_features, output_size)\n",
        "    for p in model.parameters():\n",
        "        p.requires_grad = False #freezing\n",
        "    for p in model.fc.parameters():\n",
        "        p.requires_grad = True #unfreezing\n",
        "    return model"
      ],
      "metadata": {
        "execution": {
          "iopub.status.busy": "2024-04-06T15:58:25.535412Z",
          "iopub.execute_input": "2024-04-06T15:58:25.535801Z",
          "iopub.status.idle": "2024-04-06T15:58:25.541513Z",
          "shell.execute_reply.started": "2024-04-06T15:58:25.535771Z",
          "shell.execute_reply": "2024-04-06T15:58:25.540517Z"
        },
        "trusted": true,
        "id": "_blv6pXFHmqw"
      },
      "execution_count": null,
      "outputs": []
    },
    {
      "cell_type": "code",
      "source": [
        "#training the model constructed above\n",
        "#get the data loader, model and train for each epoch\n",
        "#log the necessary data into wandb\n",
        "def train_cnn_ud(output_size,optim_name,batchSize,num_epochs,learning_rate, data_aug):\n",
        "\n",
        "    train_loader, val_loader = getData(data_aug, batchSize)\n",
        "    model = resnet50_ud(output_size).to(device)\n",
        "    optimizer = getOptim(model,optim_name, learning_rate)\n",
        "    criterion = nn.CrossEntropyLoss()\n",
        "\n",
        "    for epoch in range(num_epochs):\n",
        "        for batch_idx, (data, targets) in enumerate(tqdm(train_loader)):\n",
        "            data = data.to(device=device)\n",
        "            targets = targets.to(device=device)\n",
        "            scores = model(data) #forward propagation\n",
        "            loss = criterion(scores,targets)\n",
        "            optimizer.zero_grad()\n",
        "            loss.backward() #backaward propagation for weights update\n",
        "            optimizer.step()\n",
        "        train_accuracy,train_loss = check_accuracy(train_loader, model,criterion,batchSize)\n",
        "        validation_accuracy,validation_loss = check_accuracy(val_loader, model,criterion,batchSize)\n",
        "        print(f\"train_accuracy:{train_accuracy:.4f},train_loss:{train_loss:.4f}\")\n",
        "        print(f\"validation_accuracy:{validation_accuracy:.4f},validation_loss:{validation_loss:.4f}\")\n",
        "        wandb.log({'train_accuracy':train_accuracy})\n",
        "        wandb.log({'train_loss':train_loss})\n",
        "        wandb.log({'val_accuracy':validation_accuracy})\n",
        "        wandb.log({'val_loss':validation_loss})\n",
        "\n",
        "    #wandb.log({'train_accuracy':train_accuracy})\n"
      ],
      "metadata": {
        "id": "LjeT_cN8APhF",
        "execution": {
          "iopub.status.busy": "2024-04-06T16:01:33.997244Z",
          "iopub.execute_input": "2024-04-06T16:01:33.998138Z",
          "iopub.status.idle": "2024-04-06T16:01:34.006916Z",
          "shell.execute_reply.started": "2024-04-06T16:01:33.998105Z",
          "shell.execute_reply": "2024-04-06T16:01:34.006019Z"
        },
        "trusted": true
      },
      "execution_count": null,
      "outputs": []
    },
    {
      "cell_type": "code",
      "source": [
        "optim_name = 'adam'\n",
        "batchSize=32\n",
        "dropOut = 0.1\n",
        "num_epochs = 5\n",
        "learning_rate = 1e-3\n",
        "input_channel=3\n",
        "output_size=10\n",
        "num_filters=16\n",
        "filter_size=3\n",
        "activation_fun = \"relu\"\n",
        "filter_config = \"same\"\n",
        "stride = 1\n",
        "poolstride = 2\n",
        "poolsize = 2\n",
        "data_aug = \"no\"\n",
        "train_cnn_ud(output_size,optim_name,batchSize,num_epochs,learning_rate, data_aug)"
      ],
      "metadata": {
        "execution": {
          "iopub.status.busy": "2024-04-06T16:01:37.308258Z",
          "iopub.execute_input": "2024-04-06T16:01:37.308805Z",
          "iopub.status.idle": "2024-04-06T16:03:24.767439Z",
          "shell.execute_reply.started": "2024-04-06T16:01:37.308763Z",
          "shell.execute_reply": "2024-04-06T16:03:24.766002Z"
        },
        "trusted": true,
        "id": "Gtl6svFIHmqy",
        "outputId": "6be77f4b-e138-4817-9901-179929d15f33"
      },
      "execution_count": null,
      "outputs": [
        {
          "name": "stderr",
          "text": "100%|██████████| 250/250 [00:46<00:00,  5.35it/s]\n",
          "output_type": "stream"
        },
        {
          "name": "stdout",
          "text": "train_accuracy:75.5125,train_loss:5980.1779\nvalidation_accuracy:73.0365,validation_loss:1675.5604\n",
          "output_type": "stream"
        },
        {
          "traceback": [
            "\u001b[0;31m---------------------------------------------------------------------------\u001b[0m",
            "\u001b[0;31mNameError\u001b[0m                                 Traceback (most recent call last)",
            "Cell \u001b[0;32mIn[22], line 16\u001b[0m\n\u001b[1;32m     14\u001b[0m poolsize \u001b[38;5;241m=\u001b[39m \u001b[38;5;241m2\u001b[39m\n\u001b[1;32m     15\u001b[0m data_aug \u001b[38;5;241m=\u001b[39m \u001b[38;5;124m\"\u001b[39m\u001b[38;5;124mno\u001b[39m\u001b[38;5;124m\"\u001b[39m\n\u001b[0;32m---> 16\u001b[0m \u001b[43mtrain_cnn_ud\u001b[49m\u001b[43m(\u001b[49m\u001b[43moutput_size\u001b[49m\u001b[43m,\u001b[49m\u001b[43moptim_name\u001b[49m\u001b[43m,\u001b[49m\u001b[43mbatchSize\u001b[49m\u001b[43m,\u001b[49m\u001b[43mnum_epochs\u001b[49m\u001b[43m,\u001b[49m\u001b[43mlearning_rate\u001b[49m\u001b[43m,\u001b[49m\u001b[43m \u001b[49m\u001b[43mdata_aug\u001b[49m\u001b[43m)\u001b[49m\n",
            "Cell \u001b[0;32mIn[21], line 21\u001b[0m, in \u001b[0;36mtrain_cnn_ud\u001b[0;34m(output_size, optim_name, batchSize, num_epochs, learning_rate, data_aug)\u001b[0m\n\u001b[1;32m     19\u001b[0m \u001b[38;5;28mprint\u001b[39m(\u001b[38;5;124mf\u001b[39m\u001b[38;5;124m\"\u001b[39m\u001b[38;5;124mtrain_accuracy:\u001b[39m\u001b[38;5;132;01m{\u001b[39;00mtrain_accuracy\u001b[38;5;132;01m:\u001b[39;00m\u001b[38;5;124m.4f\u001b[39m\u001b[38;5;132;01m}\u001b[39;00m\u001b[38;5;124m,train_loss:\u001b[39m\u001b[38;5;132;01m{\u001b[39;00mtrain_loss\u001b[38;5;132;01m:\u001b[39;00m\u001b[38;5;124m.4f\u001b[39m\u001b[38;5;132;01m}\u001b[39;00m\u001b[38;5;124m\"\u001b[39m)\n\u001b[1;32m     20\u001b[0m \u001b[38;5;28mprint\u001b[39m(\u001b[38;5;124mf\u001b[39m\u001b[38;5;124m\"\u001b[39m\u001b[38;5;124mvalidation_accuracy:\u001b[39m\u001b[38;5;132;01m{\u001b[39;00mvalidation_accuracy\u001b[38;5;132;01m:\u001b[39;00m\u001b[38;5;124m.4f\u001b[39m\u001b[38;5;132;01m}\u001b[39;00m\u001b[38;5;124m,validation_loss:\u001b[39m\u001b[38;5;132;01m{\u001b[39;00mvalidation_loss\u001b[38;5;132;01m:\u001b[39;00m\u001b[38;5;124m.4f\u001b[39m\u001b[38;5;132;01m}\u001b[39;00m\u001b[38;5;124m\"\u001b[39m)\n\u001b[0;32m---> 21\u001b[0m \u001b[43mwandb\u001b[49m\u001b[38;5;241m.\u001b[39mlog({\u001b[38;5;124m'\u001b[39m\u001b[38;5;124mtrain_accuracy\u001b[39m\u001b[38;5;124m'\u001b[39m:train_accuracy})\n\u001b[1;32m     22\u001b[0m wandb\u001b[38;5;241m.\u001b[39mlog({\u001b[38;5;124m'\u001b[39m\u001b[38;5;124mtrain_loss\u001b[39m\u001b[38;5;124m'\u001b[39m:train_loss})\n\u001b[1;32m     23\u001b[0m wandb\u001b[38;5;241m.\u001b[39mlog({\u001b[38;5;124m'\u001b[39m\u001b[38;5;124mval_accuracy\u001b[39m\u001b[38;5;124m'\u001b[39m:validation_accuracy})\n",
            "\u001b[0;31mNameError\u001b[0m: name 'wandb' is not defined"
          ],
          "ename": "NameError",
          "evalue": "name 'wandb' is not defined",
          "output_type": "error"
        }
      ]
    },
    {
      "cell_type": "code",
      "source": [
        "!pip install wandb\n",
        "import wandb\n",
        "wandb.login()"
      ],
      "metadata": {
        "id": "l-IJUyJqmP-B",
        "colab": {
          "base_uri": "https://localhost:8080/",
          "height": 677
        },
        "outputId": "22458381-0f17-4c76-f68c-ddca02418b52",
        "execution": {
          "iopub.status.busy": "2024-04-06T16:04:03.702367Z",
          "iopub.execute_input": "2024-04-06T16:04:03.703215Z",
          "iopub.status.idle": "2024-04-06T16:04:24.284040Z",
          "shell.execute_reply.started": "2024-04-06T16:04:03.703185Z",
          "shell.execute_reply": "2024-04-06T16:04:24.283143Z"
        },
        "trusted": true
      },
      "execution_count": null,
      "outputs": [
        {
          "name": "stdout",
          "text": "Requirement already satisfied: wandb in /opt/conda/lib/python3.10/site-packages (0.16.4)\nRequirement already satisfied: Click!=8.0.0,>=7.1 in /opt/conda/lib/python3.10/site-packages (from wandb) (8.1.7)\nRequirement already satisfied: GitPython!=3.1.29,>=1.0.0 in /opt/conda/lib/python3.10/site-packages (from wandb) (3.1.41)\nRequirement already satisfied: requests<3,>=2.0.0 in /opt/conda/lib/python3.10/site-packages (from wandb) (2.31.0)\nRequirement already satisfied: psutil>=5.0.0 in /opt/conda/lib/python3.10/site-packages (from wandb) (5.9.3)\nRequirement already satisfied: sentry-sdk>=1.0.0 in /opt/conda/lib/python3.10/site-packages (from wandb) (1.42.0)\nRequirement already satisfied: docker-pycreds>=0.4.0 in /opt/conda/lib/python3.10/site-packages (from wandb) (0.4.0)\nRequirement already satisfied: PyYAML in /opt/conda/lib/python3.10/site-packages (from wandb) (6.0.1)\nRequirement already satisfied: setproctitle in /opt/conda/lib/python3.10/site-packages (from wandb) (1.3.3)\nRequirement already satisfied: setuptools in /opt/conda/lib/python3.10/site-packages (from wandb) (69.0.3)\nRequirement already satisfied: appdirs>=1.4.3 in /opt/conda/lib/python3.10/site-packages (from wandb) (1.4.4)\nRequirement already satisfied: protobuf!=4.21.0,<5,>=3.19.0 in /opt/conda/lib/python3.10/site-packages (from wandb) (3.20.3)\nRequirement already satisfied: six>=1.4.0 in /opt/conda/lib/python3.10/site-packages (from docker-pycreds>=0.4.0->wandb) (1.16.0)\nRequirement already satisfied: gitdb<5,>=4.0.1 in /opt/conda/lib/python3.10/site-packages (from GitPython!=3.1.29,>=1.0.0->wandb) (4.0.11)\nRequirement already satisfied: charset-normalizer<4,>=2 in /opt/conda/lib/python3.10/site-packages (from requests<3,>=2.0.0->wandb) (3.3.2)\nRequirement already satisfied: idna<4,>=2.5 in /opt/conda/lib/python3.10/site-packages (from requests<3,>=2.0.0->wandb) (3.6)\nRequirement already satisfied: urllib3<3,>=1.21.1 in /opt/conda/lib/python3.10/site-packages (from requests<3,>=2.0.0->wandb) (1.26.18)\nRequirement already satisfied: certifi>=2017.4.17 in /opt/conda/lib/python3.10/site-packages (from requests<3,>=2.0.0->wandb) (2024.2.2)\nRequirement already satisfied: smmap<6,>=3.0.1 in /opt/conda/lib/python3.10/site-packages (from gitdb<5,>=4.0.1->GitPython!=3.1.29,>=1.0.0->wandb) (5.0.1)\n",
          "output_type": "stream"
        },
        {
          "name": "stderr",
          "text": "\u001b[34m\u001b[1mwandb\u001b[0m: Logging into wandb.ai. (Learn how to deploy a W&B server locally: https://wandb.me/wandb-server)\n\u001b[34m\u001b[1mwandb\u001b[0m: You can find your API key in your browser here: https://wandb.ai/authorize\n\u001b[34m\u001b[1mwandb\u001b[0m: Paste an API key from your profile and hit enter, or press ctrl+c to quit:",
          "output_type": "stream"
        },
        {
          "output_type": "stream",
          "name": "stdin",
          "text": "  ········································\n"
        },
        {
          "name": "stderr",
          "text": "\u001b[34m\u001b[1mwandb\u001b[0m: Appending key for api.wandb.ai to your netrc file: /root/.netrc\n",
          "output_type": "stream"
        },
        {
          "execution_count": 24,
          "output_type": "execute_result",
          "data": {
            "text/plain": "True"
          },
          "metadata": {}
        }
      ]
    },
    {
      "cell_type": "code",
      "source": [
        "def main_fun():\n",
        "    wandb.init(project ='Assignment2_PartB')\n",
        "    params = wandb.config\n",
        "    with wandb.init(project = 'Assignment2_PartB', name='optim_'+str(params.optim_name)\n",
        "                    +'epochs'+str(params.num_epochs) + 'batch_size_'+str(params.batchSize)\n",
        "                    +'lear_rate_'+str(params.learning_rate) + 'data_aug_'+ str(params.data_aug)) as run:\n",
        "        train_cnn_ud(output_size,params.optim_name,params.batchSize,params.num_epochs,params.learning_rate, params.data_aug)\n",
        "\n",
        "sweep_params = {\n",
        "    'method' : 'bayes',\n",
        "    'name'   : 'cs23m005',\n",
        "    'metric' : {\n",
        "        'goal' : 'maximize',\n",
        "        'name' : 'val_accuracy',\n",
        "    },\n",
        "    'parameters' : {\n",
        "            'optim_name' :{'values':['sgd','adam','nadam']},\n",
        "            'batchSize' : {'values':[32,64]},\n",
        "            'data_aug' :{'values':['yes','no']},\n",
        "            'num_epochs':{'values':[5,10]},\n",
        "            'learning_rate' :{'values':[1e-3,1e-4]}\n",
        "    }\n",
        "}\n",
        "sweepId = wandb.sweep(sweep_params,project = 'Assignment2_PartB')\n",
        "wandb.agent(sweepId,function =main_fun,count = 10)\n",
        "wandb.finish()"
      ],
      "metadata": {
        "colab": {
          "base_uri": "https://localhost:8080/",
          "height": 1000,
          "referenced_widgets": [
            "54a7653781af4fe3ad585b9eb892520d",
            "2bfedb7a1075401895a561c17d6a39f2",
            "c2f265a64b4a40919e3384dd37c54888",
            "82bffe13a0274033a32b1af7adcb0090",
            "4794ed60e880407b8bd3a6f02e7b7ef5",
            "ede6ea7835d14d719584d5cc7318a96c",
            "bece6fdbb12f43239157751646dcedbd",
            "7105863a6ef645d2b8534247de00e694",
            "1892833c423f47279eb4753c54ad4e0d",
            "5c0bc412f6454dd7b182c34e3154a8ad",
            "af420ac6dd564d6c8036b1e8fdeb41c9",
            "8813368b42ec4e63a9b1657fe918e3e8",
            "37918cefb89b4588a78498c76ad5dae5",
            "77742ddb9dc04184a147a9415750789d",
            "e8f818d86f774c65a94866853027f2fe",
            "9f585e5eac684b25a2233d8248897396",
            "2a8be77d7f4243b2a46c2eb7058fa253",
            "01be2dd02de64c039aaaea618d212ce6",
            "8cbd9d0ffa6e444ba60a213dce12d946",
            "7b049f1c6e9d4397948d3e0b56b22e08",
            "cb58e8de8cdc41da929172940dab5a96",
            "89941ae9fbe348fc9d8d8c74f3d812ac",
            "8d644987d6b64c78a2c12edc89941325",
            "8aa3f74cb9a746629274b8ea07a08cd1",
            ""
          ]
        },
        "id": "30_ocYjqDxPO",
        "outputId": "751b6ea2-690c-4fba-e031-1ef3ac90ae97",
        "execution": {
          "iopub.status.busy": "2024-04-06T16:30:26.755124Z",
          "iopub.execute_input": "2024-04-06T16:30:26.755521Z"
        },
        "trusted": true
      },
      "execution_count": null,
      "outputs": [
        {
          "name": "stdout",
          "text": "Create sweep with ID: 7687mpbh\nSweep URL: https://wandb.ai/cs23m005/Assignment2_PartB/sweeps/7687mpbh\n",
          "output_type": "stream"
        },
        {
          "name": "stderr",
          "text": "\u001b[34m\u001b[1mwandb\u001b[0m: Agent Starting Run: xei231sm with config:\n\u001b[34m\u001b[1mwandb\u001b[0m: \tbatchSize: 32\n\u001b[34m\u001b[1mwandb\u001b[0m: \tdata_aug: no\n\u001b[34m\u001b[1mwandb\u001b[0m: \tlearning_rate: 0.001\n\u001b[34m\u001b[1mwandb\u001b[0m: \tnum_epochs: 10\n\u001b[34m\u001b[1mwandb\u001b[0m: \toptim_name: nadam\n\u001b[34m\u001b[1mwandb\u001b[0m: \u001b[33mWARNING\u001b[0m Ignored wandb.init() arg project when running a sweep.\n",
          "output_type": "stream"
        },
        {
          "output_type": "display_data",
          "data": {
            "text/plain": "<IPython.core.display.HTML object>",
            "text/html": "wandb version 0.16.6 is available!  To upgrade, please run:\n $ pip install wandb --upgrade"
          },
          "metadata": {}
        },
        {
          "output_type": "display_data",
          "data": {
            "text/plain": "<IPython.core.display.HTML object>",
            "text/html": "Tracking run with wandb version 0.16.4"
          },
          "metadata": {}
        },
        {
          "output_type": "display_data",
          "data": {
            "text/plain": "<IPython.core.display.HTML object>",
            "text/html": "Run data is saved locally in <code>/kaggle/working/wandb/run-20240406_163030-xei231sm</code>"
          },
          "metadata": {}
        },
        {
          "output_type": "display_data",
          "data": {
            "text/plain": "<IPython.core.display.HTML object>",
            "text/html": "Syncing run <strong><a href='https://wandb.ai/cs23m005/Assignment2_PartB/runs/xei231sm' target=\"_blank\">scarlet-sweep-1</a></strong> to <a href='https://wandb.ai/cs23m005/Assignment2_PartB' target=\"_blank\">Weights & Biases</a> (<a href='https://wandb.me/run' target=\"_blank\">docs</a>)<br/>Sweep page: <a href='https://wandb.ai/cs23m005/Assignment2_PartB/sweeps/7687mpbh' target=\"_blank\">https://wandb.ai/cs23m005/Assignment2_PartB/sweeps/7687mpbh</a>"
          },
          "metadata": {}
        },
        {
          "output_type": "display_data",
          "data": {
            "text/plain": "<IPython.core.display.HTML object>",
            "text/html": " View project at <a href='https://wandb.ai/cs23m005/Assignment2_PartB' target=\"_blank\">https://wandb.ai/cs23m005/Assignment2_PartB</a>"
          },
          "metadata": {}
        },
        {
          "output_type": "display_data",
          "data": {
            "text/plain": "<IPython.core.display.HTML object>",
            "text/html": " View sweep at <a href='https://wandb.ai/cs23m005/Assignment2_PartB/sweeps/7687mpbh' target=\"_blank\">https://wandb.ai/cs23m005/Assignment2_PartB/sweeps/7687mpbh</a>"
          },
          "metadata": {}
        },
        {
          "output_type": "display_data",
          "data": {
            "text/plain": "<IPython.core.display.HTML object>",
            "text/html": " View run at <a href='https://wandb.ai/cs23m005/Assignment2_PartB/runs/xei231sm' target=\"_blank\">https://wandb.ai/cs23m005/Assignment2_PartB/runs/xei231sm</a>"
          },
          "metadata": {}
        },
        {
          "name": "stderr",
          "text": "\u001b[34m\u001b[1mwandb\u001b[0m: \u001b[33mWARNING\u001b[0m Ignored wandb.init() arg project when running a sweep.\n",
          "output_type": "stream"
        },
        {
          "output_type": "display_data",
          "data": {
            "text/plain": "<IPython.core.display.HTML object>",
            "text/html": "Finishing last run (ID:xei231sm) before initializing another..."
          },
          "metadata": {}
        },
        {
          "output_type": "display_data",
          "data": {
            "text/plain": "VBox(children=(Label(value='0.000 MB of 0.000 MB uploaded\\r'), FloatProgress(value=1.0, max=1.0)))",
            "application/vnd.jupyter.widget-view+json": {
              "version_major": 2,
              "version_minor": 0,
              "model_id": ""
            }
          },
          "metadata": {}
        },
        {
          "output_type": "display_data",
          "data": {
            "text/plain": "<IPython.core.display.HTML object>",
            "text/html": " View run <strong style=\"color:#cdcd00\">scarlet-sweep-1</strong> at: <a href='https://wandb.ai/cs23m005/Assignment2_PartB/runs/xei231sm' target=\"_blank\">https://wandb.ai/cs23m005/Assignment2_PartB/runs/xei231sm</a><br/>Synced 6 W&B file(s), 0 media file(s), 0 artifact file(s) and 0 other file(s)"
          },
          "metadata": {}
        },
        {
          "output_type": "display_data",
          "data": {
            "text/plain": "<IPython.core.display.HTML object>",
            "text/html": "Find logs at: <code>./wandb/run-20240406_163030-xei231sm/logs</code>"
          },
          "metadata": {}
        },
        {
          "output_type": "display_data",
          "data": {
            "text/plain": "<IPython.core.display.HTML object>",
            "text/html": "Successfully finished last run (ID:xei231sm). Initializing new run:<br/>"
          },
          "metadata": {}
        },
        {
          "output_type": "display_data",
          "data": {
            "text/plain": "<IPython.core.display.HTML object>",
            "text/html": "wandb version 0.16.6 is available!  To upgrade, please run:\n $ pip install wandb --upgrade"
          },
          "metadata": {}
        },
        {
          "output_type": "display_data",
          "data": {
            "text/plain": "<IPython.core.display.HTML object>",
            "text/html": "Tracking run with wandb version 0.16.4"
          },
          "metadata": {}
        },
        {
          "output_type": "display_data",
          "data": {
            "text/plain": "<IPython.core.display.HTML object>",
            "text/html": "Run data is saved locally in <code>/kaggle/working/wandb/run-20240406_163102-xei231sm</code>"
          },
          "metadata": {}
        },
        {
          "output_type": "display_data",
          "data": {
            "text/plain": "<IPython.core.display.HTML object>",
            "text/html": "Syncing run <strong><a href='https://wandb.ai/cs23m005/Assignment2_PartB/runs/xei231sm' target=\"_blank\">optim_nadamepochs10batch_size_32lear_rate_0.001data_aug_no</a></strong> to <a href='https://wandb.ai/cs23m005/Assignment2_PartB' target=\"_blank\">Weights & Biases</a> (<a href='https://wandb.me/run' target=\"_blank\">docs</a>)<br/>Sweep page: <a href='https://wandb.ai/cs23m005/Assignment2_PartB/sweeps/7687mpbh' target=\"_blank\">https://wandb.ai/cs23m005/Assignment2_PartB/sweeps/7687mpbh</a>"
          },
          "metadata": {}
        },
        {
          "output_type": "display_data",
          "data": {
            "text/plain": "<IPython.core.display.HTML object>",
            "text/html": " View project at <a href='https://wandb.ai/cs23m005/Assignment2_PartB' target=\"_blank\">https://wandb.ai/cs23m005/Assignment2_PartB</a>"
          },
          "metadata": {}
        },
        {
          "output_type": "display_data",
          "data": {
            "text/plain": "<IPython.core.display.HTML object>",
            "text/html": " View sweep at <a href='https://wandb.ai/cs23m005/Assignment2_PartB/sweeps/7687mpbh' target=\"_blank\">https://wandb.ai/cs23m005/Assignment2_PartB/sweeps/7687mpbh</a>"
          },
          "metadata": {}
        },
        {
          "output_type": "display_data",
          "data": {
            "text/plain": "<IPython.core.display.HTML object>",
            "text/html": " View run at <a href='https://wandb.ai/cs23m005/Assignment2_PartB/runs/xei231sm' target=\"_blank\">https://wandb.ai/cs23m005/Assignment2_PartB/runs/xei231sm</a>"
          },
          "metadata": {}
        },
        {
          "name": "stderr",
          "text": "100%|██████████| 250/250 [00:52<00:00,  4.79it/s]\n",
          "output_type": "stream"
        },
        {
          "name": "stdout",
          "text": "train_accuracy:73.6500,train_loss:6341.6382\nvalidation_accuracy:70.6853,validation_loss:1791.8653\n",
          "output_type": "stream"
        },
        {
          "name": "stderr",
          "text": "100%|██████████| 250/250 [00:45<00:00,  5.48it/s]\n",
          "output_type": "stream"
        },
        {
          "name": "stdout",
          "text": "train_accuracy:78.5000,train_loss:5378.3509\nvalidation_accuracy:74.7874,validation_loss:1580.6254\n",
          "output_type": "stream"
        },
        {
          "name": "stderr",
          "text": "100%|██████████| 250/250 [00:45<00:00,  5.54it/s]\n",
          "output_type": "stream"
        },
        {
          "name": "stdout",
          "text": "train_accuracy:79.6375,train_loss:5004.2228\nvalidation_accuracy:74.4872,validation_loss:1576.8329\n",
          "output_type": "stream"
        },
        {
          "name": "stderr",
          "text": "100%|██████████| 250/250 [00:45<00:00,  5.50it/s]\n",
          "output_type": "stream"
        },
        {
          "name": "stdout",
          "text": "train_accuracy:77.9250,train_loss:5270.6567\nvalidation_accuracy:70.8854,validation_loss:1744.9621\n",
          "output_type": "stream"
        },
        {
          "name": "stderr",
          "text": "100%|██████████| 250/250 [00:45<00:00,  5.52it/s]\n",
          "output_type": "stream"
        },
        {
          "name": "stdout",
          "text": "train_accuracy:81.3875,train_loss:4556.3213\nvalidation_accuracy:75.1376,validation_loss:1575.5219\n",
          "output_type": "stream"
        },
        {
          "name": "stderr",
          "text": "100%|██████████| 250/250 [00:45<00:00,  5.53it/s]\n",
          "output_type": "stream"
        },
        {
          "name": "stdout",
          "text": "train_accuracy:81.7375,train_loss:4487.3464\nvalidation_accuracy:75.3377,validation_loss:1577.9817\n",
          "output_type": "stream"
        },
        {
          "name": "stderr",
          "text": "100%|██████████| 250/250 [00:45<00:00,  5.50it/s]\n",
          "output_type": "stream"
        },
        {
          "name": "stdout",
          "text": "train_accuracy:81.9125,train_loss:4352.0603\nvalidation_accuracy:74.3372,validation_loss:1601.4466\n",
          "output_type": "stream"
        },
        {
          "name": "stderr",
          "text": "100%|██████████| 250/250 [00:44<00:00,  5.61it/s]\n",
          "output_type": "stream"
        },
        {
          "name": "stdout",
          "text": "train_accuracy:81.7250,train_loss:4440.2895\nvalidation_accuracy:75.6878,validation_loss:1582.6076\n",
          "output_type": "stream"
        },
        {
          "name": "stderr",
          "text": "100%|██████████| 250/250 [00:44<00:00,  5.62it/s]\n",
          "output_type": "stream"
        },
        {
          "name": "stdout",
          "text": "train_accuracy:82.7750,train_loss:4209.5522\nvalidation_accuracy:74.9375,validation_loss:1592.7119\n",
          "output_type": "stream"
        },
        {
          "name": "stderr",
          "text": "100%|██████████| 250/250 [00:46<00:00,  5.40it/s]\n",
          "output_type": "stream"
        },
        {
          "name": "stdout",
          "text": "train_accuracy:82.8625,train_loss:4134.3779\nvalidation_accuracy:74.0870,validation_loss:1612.1130\n",
          "output_type": "stream"
        },
        {
          "output_type": "display_data",
          "data": {
            "text/plain": "VBox(children=(Label(value='0.001 MB of 0.001 MB uploaded\\r'), FloatProgress(value=1.0, max=1.0)))",
            "application/vnd.jupyter.widget-view+json": {
              "version_major": 2,
              "version_minor": 0,
              "model_id": ""
            }
          },
          "metadata": {}
        },
        {
          "output_type": "display_data",
          "data": {
            "text/plain": "<IPython.core.display.HTML object>",
            "text/html": "<style>\n    table.wandb td:nth-child(1) { padding: 0 10px; text-align: left ; width: auto;} td:nth-child(2) {text-align: left ; width: 100%}\n    .wandb-row { display: flex; flex-direction: row; flex-wrap: wrap; justify-content: flex-start; width: 100% }\n    .wandb-col { display: flex; flex-direction: column; flex-basis: 100%; flex: 1; padding: 10px; }\n    </style>\n<div class=\"wandb-row\"><div class=\"wandb-col\"><h3>Run history:</h3><br/><table class=\"wandb\"><tr><td>train_accuracy</td><td>▁▅▆▄▇▇▇▇██</td></tr><tr><td>train_loss</td><td>█▅▄▅▂▂▂▂▁▁</td></tr><tr><td>val_accuracy</td><td>▁▇▆▁▇█▆█▇▆</td></tr><tr><td>val_loss</td><td>█▁▁▆▁▁▂▁▂▂</td></tr></table><br/></div><div class=\"wandb-col\"><h3>Run summary:</h3><br/><table class=\"wandb\"><tr><td>train_accuracy</td><td>82.8625</td></tr><tr><td>train_loss</td><td>4134.37787</td></tr><tr><td>val_accuracy</td><td>74.08704</td></tr><tr><td>val_loss</td><td>1612.11303</td></tr></table><br/></div></div>"
          },
          "metadata": {}
        },
        {
          "output_type": "display_data",
          "data": {
            "text/plain": "<IPython.core.display.HTML object>",
            "text/html": " View run <strong style=\"color:#cdcd00\">optim_nadamepochs10batch_size_32lear_rate_0.001data_aug_no</strong> at: <a href='https://wandb.ai/cs23m005/Assignment2_PartB/runs/xei231sm' target=\"_blank\">https://wandb.ai/cs23m005/Assignment2_PartB/runs/xei231sm</a><br/>Synced 6 W&B file(s), 0 media file(s), 0 artifact file(s) and 0 other file(s)"
          },
          "metadata": {}
        },
        {
          "output_type": "display_data",
          "data": {
            "text/plain": "<IPython.core.display.HTML object>",
            "text/html": "Find logs at: <code>./wandb/run-20240406_163102-xei231sm/logs</code>"
          },
          "metadata": {}
        },
        {
          "name": "stderr",
          "text": "\u001b[34m\u001b[1mwandb\u001b[0m: Agent Starting Run: kgfpy7xt with config:\n\u001b[34m\u001b[1mwandb\u001b[0m: \tbatchSize: 32\n\u001b[34m\u001b[1mwandb\u001b[0m: \tdata_aug: yes\n\u001b[34m\u001b[1mwandb\u001b[0m: \tlearning_rate: 0.001\n\u001b[34m\u001b[1mwandb\u001b[0m: \tnum_epochs: 5\n\u001b[34m\u001b[1mwandb\u001b[0m: \toptim_name: adam\n\u001b[34m\u001b[1mwandb\u001b[0m: \u001b[33mWARNING\u001b[0m Ignored wandb.init() arg project when running a sweep.\n",
          "output_type": "stream"
        },
        {
          "output_type": "display_data",
          "data": {
            "text/plain": "<IPython.core.display.HTML object>",
            "text/html": "wandb version 0.16.6 is available!  To upgrade, please run:\n $ pip install wandb --upgrade"
          },
          "metadata": {}
        },
        {
          "output_type": "display_data",
          "data": {
            "text/plain": "<IPython.core.display.HTML object>",
            "text/html": "Tracking run with wandb version 0.16.4"
          },
          "metadata": {}
        },
        {
          "output_type": "display_data",
          "data": {
            "text/plain": "<IPython.core.display.HTML object>",
            "text/html": "Run data is saved locally in <code>/kaggle/working/wandb/run-20240406_164943-kgfpy7xt</code>"
          },
          "metadata": {}
        },
        {
          "output_type": "display_data",
          "data": {
            "text/plain": "<IPython.core.display.HTML object>",
            "text/html": "Syncing run <strong><a href='https://wandb.ai/cs23m005/Assignment2_PartB/runs/kgfpy7xt' target=\"_blank\">faithful-sweep-2</a></strong> to <a href='https://wandb.ai/cs23m005/Assignment2_PartB' target=\"_blank\">Weights & Biases</a> (<a href='https://wandb.me/run' target=\"_blank\">docs</a>)<br/>Sweep page: <a href='https://wandb.ai/cs23m005/Assignment2_PartB/sweeps/7687mpbh' target=\"_blank\">https://wandb.ai/cs23m005/Assignment2_PartB/sweeps/7687mpbh</a>"
          },
          "metadata": {}
        },
        {
          "output_type": "display_data",
          "data": {
            "text/plain": "<IPython.core.display.HTML object>",
            "text/html": " View project at <a href='https://wandb.ai/cs23m005/Assignment2_PartB' target=\"_blank\">https://wandb.ai/cs23m005/Assignment2_PartB</a>"
          },
          "metadata": {}
        },
        {
          "output_type": "display_data",
          "data": {
            "text/plain": "<IPython.core.display.HTML object>",
            "text/html": " View sweep at <a href='https://wandb.ai/cs23m005/Assignment2_PartB/sweeps/7687mpbh' target=\"_blank\">https://wandb.ai/cs23m005/Assignment2_PartB/sweeps/7687mpbh</a>"
          },
          "metadata": {}
        },
        {
          "output_type": "display_data",
          "data": {
            "text/plain": "<IPython.core.display.HTML object>",
            "text/html": " View run at <a href='https://wandb.ai/cs23m005/Assignment2_PartB/runs/kgfpy7xt' target=\"_blank\">https://wandb.ai/cs23m005/Assignment2_PartB/runs/kgfpy7xt</a>"
          },
          "metadata": {}
        },
        {
          "name": "stderr",
          "text": "\u001b[34m\u001b[1mwandb\u001b[0m: \u001b[33mWARNING\u001b[0m Ignored wandb.init() arg project when running a sweep.\n",
          "output_type": "stream"
        },
        {
          "output_type": "display_data",
          "data": {
            "text/plain": "<IPython.core.display.HTML object>",
            "text/html": "Finishing last run (ID:kgfpy7xt) before initializing another..."
          },
          "metadata": {}
        },
        {
          "output_type": "display_data",
          "data": {
            "text/plain": "VBox(children=(Label(value='0.000 MB of 0.000 MB uploaded\\r'), FloatProgress(value=1.0, max=1.0)))",
            "application/vnd.jupyter.widget-view+json": {
              "version_major": 2,
              "version_minor": 0,
              "model_id": ""
            }
          },
          "metadata": {}
        },
        {
          "output_type": "display_data",
          "data": {
            "text/plain": "<IPython.core.display.HTML object>",
            "text/html": " View run <strong style=\"color:#cdcd00\">faithful-sweep-2</strong> at: <a href='https://wandb.ai/cs23m005/Assignment2_PartB/runs/kgfpy7xt' target=\"_blank\">https://wandb.ai/cs23m005/Assignment2_PartB/runs/kgfpy7xt</a><br/>Synced 6 W&B file(s), 0 media file(s), 0 artifact file(s) and 0 other file(s)"
          },
          "metadata": {}
        },
        {
          "output_type": "display_data",
          "data": {
            "text/plain": "<IPython.core.display.HTML object>",
            "text/html": "Find logs at: <code>./wandb/run-20240406_164943-kgfpy7xt/logs</code>"
          },
          "metadata": {}
        },
        {
          "output_type": "display_data",
          "data": {
            "text/plain": "<IPython.core.display.HTML object>",
            "text/html": "Successfully finished last run (ID:kgfpy7xt). Initializing new run:<br/>"
          },
          "metadata": {}
        },
        {
          "output_type": "display_data",
          "data": {
            "text/plain": "<IPython.core.display.HTML object>",
            "text/html": "wandb version 0.16.6 is available!  To upgrade, please run:\n $ pip install wandb --upgrade"
          },
          "metadata": {}
        },
        {
          "output_type": "display_data",
          "data": {
            "text/plain": "<IPython.core.display.HTML object>",
            "text/html": "Tracking run with wandb version 0.16.4"
          },
          "metadata": {}
        },
        {
          "output_type": "display_data",
          "data": {
            "text/plain": "<IPython.core.display.HTML object>",
            "text/html": "Run data is saved locally in <code>/kaggle/working/wandb/run-20240406_165015-kgfpy7xt</code>"
          },
          "metadata": {}
        },
        {
          "output_type": "display_data",
          "data": {
            "text/plain": "<IPython.core.display.HTML object>",
            "text/html": "Syncing run <strong><a href='https://wandb.ai/cs23m005/Assignment2_PartB/runs/kgfpy7xt' target=\"_blank\">optim_adamepochs5batch_size_32lear_rate_0.001data_aug_yes</a></strong> to <a href='https://wandb.ai/cs23m005/Assignment2_PartB' target=\"_blank\">Weights & Biases</a> (<a href='https://wandb.me/run' target=\"_blank\">docs</a>)<br/>Sweep page: <a href='https://wandb.ai/cs23m005/Assignment2_PartB/sweeps/7687mpbh' target=\"_blank\">https://wandb.ai/cs23m005/Assignment2_PartB/sweeps/7687mpbh</a>"
          },
          "metadata": {}
        },
        {
          "output_type": "display_data",
          "data": {
            "text/plain": "<IPython.core.display.HTML object>",
            "text/html": " View project at <a href='https://wandb.ai/cs23m005/Assignment2_PartB' target=\"_blank\">https://wandb.ai/cs23m005/Assignment2_PartB</a>"
          },
          "metadata": {}
        },
        {
          "output_type": "display_data",
          "data": {
            "text/plain": "<IPython.core.display.HTML object>",
            "text/html": " View sweep at <a href='https://wandb.ai/cs23m005/Assignment2_PartB/sweeps/7687mpbh' target=\"_blank\">https://wandb.ai/cs23m005/Assignment2_PartB/sweeps/7687mpbh</a>"
          },
          "metadata": {}
        },
        {
          "output_type": "display_data",
          "data": {
            "text/plain": "<IPython.core.display.HTML object>",
            "text/html": " View run at <a href='https://wandb.ai/cs23m005/Assignment2_PartB/runs/kgfpy7xt' target=\"_blank\">https://wandb.ai/cs23m005/Assignment2_PartB/runs/kgfpy7xt</a>"
          },
          "metadata": {}
        },
        {
          "name": "stderr",
          "text": "100%|██████████| 250/250 [01:12<00:00,  3.43it/s]\n",
          "output_type": "stream"
        },
        {
          "name": "stdout",
          "text": "train_accuracy:68.6500,train_loss:7642.6066\nvalidation_accuracy:67.8339,validation_loss:1943.1111\n",
          "output_type": "stream"
        },
        {
          "name": "stderr",
          "text": "100%|██████████| 250/250 [01:05<00:00,  3.81it/s]\n",
          "output_type": "stream"
        },
        {
          "name": "stdout",
          "text": "train_accuracy:69.4625,train_loss:7314.7036\nvalidation_accuracy:69.7849,validation_loss:1848.3105\n",
          "output_type": "stream"
        },
        {
          "name": "stderr",
          "text": "100%|██████████| 250/250 [01:05<00:00,  3.82it/s]\n",
          "output_type": "stream"
        },
        {
          "name": "stdout",
          "text": "train_accuracy:69.1125,train_loss:7415.6193\nvalidation_accuracy:68.4342,validation_loss:1901.7484\n",
          "output_type": "stream"
        },
        {
          "name": "stderr",
          "text": "100%|██████████| 250/250 [01:05<00:00,  3.81it/s]\n",
          "output_type": "stream"
        },
        {
          "name": "stdout",
          "text": "train_accuracy:71.0250,train_loss:6963.4734\nvalidation_accuracy:69.5348,validation_loss:1827.0083\n",
          "output_type": "stream"
        },
        {
          "name": "stderr",
          "text": "100%|██████████| 250/250 [01:05<00:00,  3.83it/s]\n",
          "output_type": "stream"
        },
        {
          "name": "stdout",
          "text": "train_accuracy:69.7250,train_loss:7280.6234\nvalidation_accuracy:67.3837,validation_loss:1984.1631\n",
          "output_type": "stream"
        },
        {
          "output_type": "display_data",
          "data": {
            "text/plain": "VBox(children=(Label(value='0.001 MB of 0.001 MB uploaded\\r'), FloatProgress(value=1.0, max=1.0)))",
            "application/vnd.jupyter.widget-view+json": {
              "version_major": 2,
              "version_minor": 0,
              "model_id": ""
            }
          },
          "metadata": {}
        },
        {
          "output_type": "display_data",
          "data": {
            "text/plain": "<IPython.core.display.HTML object>",
            "text/html": "<style>\n    table.wandb td:nth-child(1) { padding: 0 10px; text-align: left ; width: auto;} td:nth-child(2) {text-align: left ; width: 100%}\n    .wandb-row { display: flex; flex-direction: row; flex-wrap: wrap; justify-content: flex-start; width: 100% }\n    .wandb-col { display: flex; flex-direction: column; flex-basis: 100%; flex: 1; padding: 10px; }\n    </style>\n<div class=\"wandb-row\"><div class=\"wandb-col\"><h3>Run history:</h3><br/><table class=\"wandb\"><tr><td>train_accuracy</td><td>▁▃▂█▄</td></tr><tr><td>train_loss</td><td>█▅▆▁▄</td></tr><tr><td>val_accuracy</td><td>▂█▄▇▁</td></tr><tr><td>val_loss</td><td>▆▂▄▁█</td></tr></table><br/></div><div class=\"wandb-col\"><h3>Run summary:</h3><br/><table class=\"wandb\"><tr><td>train_accuracy</td><td>69.725</td></tr><tr><td>train_loss</td><td>7280.62339</td></tr><tr><td>val_accuracy</td><td>67.38369</td></tr><tr><td>val_loss</td><td>1984.16309</td></tr></table><br/></div></div>"
          },
          "metadata": {}
        },
        {
          "output_type": "display_data",
          "data": {
            "text/plain": "<IPython.core.display.HTML object>",
            "text/html": " View run <strong style=\"color:#cdcd00\">optim_adamepochs5batch_size_32lear_rate_0.001data_aug_yes</strong> at: <a href='https://wandb.ai/cs23m005/Assignment2_PartB/runs/kgfpy7xt' target=\"_blank\">https://wandb.ai/cs23m005/Assignment2_PartB/runs/kgfpy7xt</a><br/>Synced 6 W&B file(s), 0 media file(s), 0 artifact file(s) and 0 other file(s)"
          },
          "metadata": {}
        },
        {
          "output_type": "display_data",
          "data": {
            "text/plain": "<IPython.core.display.HTML object>",
            "text/html": "Find logs at: <code>./wandb/run-20240406_165015-kgfpy7xt/logs</code>"
          },
          "metadata": {}
        },
        {
          "name": "stderr",
          "text": "\u001b[34m\u001b[1mwandb\u001b[0m: Sweep Agent: Waiting for job.\n\u001b[34m\u001b[1mwandb\u001b[0m: Job received.\n\u001b[34m\u001b[1mwandb\u001b[0m: Agent Starting Run: mytoixt8 with config:\n\u001b[34m\u001b[1mwandb\u001b[0m: \tbatchSize: 64\n\u001b[34m\u001b[1mwandb\u001b[0m: \tdata_aug: yes\n\u001b[34m\u001b[1mwandb\u001b[0m: \tlearning_rate: 0.001\n\u001b[34m\u001b[1mwandb\u001b[0m: \tnum_epochs: 5\n\u001b[34m\u001b[1mwandb\u001b[0m: \toptim_name: sgd\n\u001b[34m\u001b[1mwandb\u001b[0m: \u001b[33mWARNING\u001b[0m Ignored wandb.init() arg project when running a sweep.\n",
          "output_type": "stream"
        },
        {
          "output_type": "display_data",
          "data": {
            "text/plain": "<IPython.core.display.HTML object>",
            "text/html": "wandb version 0.16.6 is available!  To upgrade, please run:\n $ pip install wandb --upgrade"
          },
          "metadata": {}
        },
        {
          "output_type": "display_data",
          "data": {
            "text/plain": "<IPython.core.display.HTML object>",
            "text/html": "Tracking run with wandb version 0.16.4"
          },
          "metadata": {}
        },
        {
          "output_type": "display_data",
          "data": {
            "text/plain": "<IPython.core.display.HTML object>",
            "text/html": "Run data is saved locally in <code>/kaggle/working/wandb/run-20240406_170421-mytoixt8</code>"
          },
          "metadata": {}
        },
        {
          "output_type": "display_data",
          "data": {
            "text/plain": "<IPython.core.display.HTML object>",
            "text/html": "Syncing run <strong><a href='https://wandb.ai/cs23m005/Assignment2_PartB/runs/mytoixt8' target=\"_blank\">dry-sweep-3</a></strong> to <a href='https://wandb.ai/cs23m005/Assignment2_PartB' target=\"_blank\">Weights & Biases</a> (<a href='https://wandb.me/run' target=\"_blank\">docs</a>)<br/>Sweep page: <a href='https://wandb.ai/cs23m005/Assignment2_PartB/sweeps/7687mpbh' target=\"_blank\">https://wandb.ai/cs23m005/Assignment2_PartB/sweeps/7687mpbh</a>"
          },
          "metadata": {}
        },
        {
          "output_type": "display_data",
          "data": {
            "text/plain": "<IPython.core.display.HTML object>",
            "text/html": " View project at <a href='https://wandb.ai/cs23m005/Assignment2_PartB' target=\"_blank\">https://wandb.ai/cs23m005/Assignment2_PartB</a>"
          },
          "metadata": {}
        },
        {
          "output_type": "display_data",
          "data": {
            "text/plain": "<IPython.core.display.HTML object>",
            "text/html": " View sweep at <a href='https://wandb.ai/cs23m005/Assignment2_PartB/sweeps/7687mpbh' target=\"_blank\">https://wandb.ai/cs23m005/Assignment2_PartB/sweeps/7687mpbh</a>"
          },
          "metadata": {}
        },
        {
          "output_type": "display_data",
          "data": {
            "text/plain": "<IPython.core.display.HTML object>",
            "text/html": " View run at <a href='https://wandb.ai/cs23m005/Assignment2_PartB/runs/mytoixt8' target=\"_blank\">https://wandb.ai/cs23m005/Assignment2_PartB/runs/mytoixt8</a>"
          },
          "metadata": {}
        },
        {
          "name": "stderr",
          "text": "\u001b[34m\u001b[1mwandb\u001b[0m: \u001b[33mWARNING\u001b[0m Ignored wandb.init() arg project when running a sweep.\n",
          "output_type": "stream"
        },
        {
          "output_type": "display_data",
          "data": {
            "text/plain": "<IPython.core.display.HTML object>",
            "text/html": "Finishing last run (ID:mytoixt8) before initializing another..."
          },
          "metadata": {}
        },
        {
          "output_type": "display_data",
          "data": {
            "text/plain": "VBox(children=(Label(value='0.000 MB of 0.000 MB uploaded\\r'), FloatProgress(value=1.0, max=1.0)))",
            "application/vnd.jupyter.widget-view+json": {
              "version_major": 2,
              "version_minor": 0,
              "model_id": ""
            }
          },
          "metadata": {}
        },
        {
          "output_type": "display_data",
          "data": {
            "text/plain": "<IPython.core.display.HTML object>",
            "text/html": " View run <strong style=\"color:#cdcd00\">dry-sweep-3</strong> at: <a href='https://wandb.ai/cs23m005/Assignment2_PartB/runs/mytoixt8' target=\"_blank\">https://wandb.ai/cs23m005/Assignment2_PartB/runs/mytoixt8</a><br/>Synced 6 W&B file(s), 0 media file(s), 0 artifact file(s) and 0 other file(s)"
          },
          "metadata": {}
        },
        {
          "output_type": "display_data",
          "data": {
            "text/plain": "<IPython.core.display.HTML object>",
            "text/html": "Find logs at: <code>./wandb/run-20240406_170421-mytoixt8/logs</code>"
          },
          "metadata": {}
        },
        {
          "output_type": "display_data",
          "data": {
            "text/plain": "<IPython.core.display.HTML object>",
            "text/html": "Successfully finished last run (ID:mytoixt8). Initializing new run:<br/>"
          },
          "metadata": {}
        },
        {
          "output_type": "display_data",
          "data": {
            "text/plain": "<IPython.core.display.HTML object>",
            "text/html": "wandb version 0.16.6 is available!  To upgrade, please run:\n $ pip install wandb --upgrade"
          },
          "metadata": {}
        },
        {
          "output_type": "display_data",
          "data": {
            "text/plain": "<IPython.core.display.HTML object>",
            "text/html": "Tracking run with wandb version 0.16.4"
          },
          "metadata": {}
        },
        {
          "output_type": "display_data",
          "data": {
            "text/plain": "<IPython.core.display.HTML object>",
            "text/html": "Run data is saved locally in <code>/kaggle/working/wandb/run-20240406_170452-mytoixt8</code>"
          },
          "metadata": {}
        },
        {
          "output_type": "display_data",
          "data": {
            "text/plain": "<IPython.core.display.HTML object>",
            "text/html": "Syncing run <strong><a href='https://wandb.ai/cs23m005/Assignment2_PartB/runs/mytoixt8' target=\"_blank\">optim_sgdepochs5batch_size_64lear_rate_0.001data_aug_yes</a></strong> to <a href='https://wandb.ai/cs23m005/Assignment2_PartB' target=\"_blank\">Weights & Biases</a> (<a href='https://wandb.me/run' target=\"_blank\">docs</a>)<br/>Sweep page: <a href='https://wandb.ai/cs23m005/Assignment2_PartB/sweeps/7687mpbh' target=\"_blank\">https://wandb.ai/cs23m005/Assignment2_PartB/sweeps/7687mpbh</a>"
          },
          "metadata": {}
        },
        {
          "output_type": "display_data",
          "data": {
            "text/plain": "<IPython.core.display.HTML object>",
            "text/html": " View project at <a href='https://wandb.ai/cs23m005/Assignment2_PartB' target=\"_blank\">https://wandb.ai/cs23m005/Assignment2_PartB</a>"
          },
          "metadata": {}
        },
        {
          "output_type": "display_data",
          "data": {
            "text/plain": "<IPython.core.display.HTML object>",
            "text/html": " View sweep at <a href='https://wandb.ai/cs23m005/Assignment2_PartB/sweeps/7687mpbh' target=\"_blank\">https://wandb.ai/cs23m005/Assignment2_PartB/sweeps/7687mpbh</a>"
          },
          "metadata": {}
        },
        {
          "output_type": "display_data",
          "data": {
            "text/plain": "<IPython.core.display.HTML object>",
            "text/html": " View run at <a href='https://wandb.ai/cs23m005/Assignment2_PartB/runs/mytoixt8' target=\"_blank\">https://wandb.ai/cs23m005/Assignment2_PartB/runs/mytoixt8</a>"
          },
          "metadata": {}
        },
        {
          "name": "stderr",
          "text": "100%|██████████| 125/125 [01:12<00:00,  1.72it/s]\n",
          "output_type": "stream"
        },
        {
          "name": "stdout",
          "text": "train_accuracy:37.8375,train_loss:16614.5603\nvalidation_accuracy:38.9695,validation_loss:4249.6530\n",
          "output_type": "stream"
        },
        {
          "name": "stderr",
          "text": "100%|██████████| 125/125 [01:05<00:00,  1.92it/s]\n",
          "output_type": "stream"
        },
        {
          "name": "stdout",
          "text": "train_accuracy:51.9500,train_loss:15179.4118\nvalidation_accuracy:50.3752,validation_loss:3902.0290\n",
          "output_type": "stream"
        },
        {
          "name": "stderr",
          "text": "100%|██████████| 125/125 [01:04<00:00,  1.94it/s]\n",
          "output_type": "stream"
        },
        {
          "name": "stdout",
          "text": "train_accuracy:57.1000,train_loss:13949.4571\nvalidation_accuracy:57.6288,validation_loss:3584.9539\n",
          "output_type": "stream"
        },
        {
          "name": "stderr",
          "text": "100%|██████████| 125/125 [01:05<00:00,  1.90it/s]\n",
          "output_type": "stream"
        },
        {
          "name": "stdout",
          "text": "train_accuracy:59.5000,train_loss:13055.8025\nvalidation_accuracy:58.2291,validation_loss:3376.9994\n",
          "output_type": "stream"
        },
        {
          "name": "stderr",
          "text": " 73%|███████▎  | 91/125 [00:48<00:19,  1.73it/s]",
          "output_type": "stream"
        }
      ]
    },
    {
      "cell_type": "code",
      "source": [
        "import argparse\n",
        "\n",
        "\n",
        "def parse_args():\n",
        "    p = argparse.ArgumentParser(description = \"provide optinal parameters for training\")\n",
        "    p.add_argument('-wp', '--wandb_project', type=str, default=\"Assignment2_PartB\", help=\"wandb project name\")\n",
        "    p.add_argument('-opt', '--optim_name', type=str, default=\"nadam\", choices = ['sgd','adam','nadam'], help=\"optimizer for backprop\")\n",
        "    p.add_argument('-bS', '--batchSize', type=int, default=32, choices = [32, 64], help=\"batch size\")\n",
        "    p.add_argument('-ag', '--data_aug', type=str, default=\"no\", choices = ['yes', 'no'], help=\"data augmentation\")\n",
        "    p.add_argument('-nE', '--num_epochs', type=int, default=5, choices = [5, 10], help=\"number of epochs\")\n",
        "    p.add_argument('-lR', '--learning_rate', type=float, default=1e-3, choices = [1e-3, 1e-4], help=\"learning rate\")\n",
        "\n",
        "args = parse_args()\n",
        "wandb.init(project = args.wadb_project)\n",
        "wandb.run.name=f'optimizer {str(args.optim_name)} epochs {str(args.num_epochs)} learning rate {args.learning_rate}'\n",
        "\n",
        "train_cnn_ud(output_size,args.optim_name,args.batchSize,args.num_epochs,args.learning_rate, args.data_aug)\n",
        "\n",
        "\n",
        ""
      ],
      "metadata": {
        "id": "fSLHzRPKHmq0"
      },
      "execution_count": null,
      "outputs": []
    }
  ]
}